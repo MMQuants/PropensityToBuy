{
 "cells": [
  {
   "cell_type": "code",
   "execution_count": 3,
   "metadata": {
    "colab": {
     "base_uri": "https://localhost:8080/"
    },
    "id": "Wd9W4wGqSVvu",
    "outputId": "fc4e4293-ab3b-49af-a69a-c1a20b929941"
   },
   "outputs": [
    {
     "ename": "ModuleNotFoundError",
     "evalue": "No module named 'google.colab'",
     "output_type": "error",
     "traceback": [
      "\u001b[1;31m---------------------------------------------------------------------------\u001b[0m",
      "\u001b[1;31mModuleNotFoundError\u001b[0m                       Traceback (most recent call last)",
      "\u001b[1;32m<ipython-input-3-93f8cbc33ddf>\u001b[0m in \u001b[0;36m<module>\u001b[1;34m\u001b[0m\n\u001b[1;32m----> 1\u001b[1;33m \u001b[1;32mfrom\u001b[0m \u001b[0mgoogle\u001b[0m\u001b[1;33m.\u001b[0m\u001b[0mcolab\u001b[0m \u001b[1;32mimport\u001b[0m \u001b[0mauth\u001b[0m\u001b[1;33m\u001b[0m\u001b[1;33m\u001b[0m\u001b[0m\n\u001b[0m\u001b[0;32m      2\u001b[0m \u001b[0mauth\u001b[0m\u001b[1;33m.\u001b[0m\u001b[0mauthenticate_user\u001b[0m\u001b[1;33m(\u001b[0m\u001b[1;33m)\u001b[0m\u001b[1;33m\u001b[0m\u001b[1;33m\u001b[0m\u001b[0m\n\u001b[0;32m      3\u001b[0m \u001b[0mprint\u001b[0m\u001b[1;33m(\u001b[0m\u001b[1;34m'Authenticated'\u001b[0m\u001b[1;33m)\u001b[0m\u001b[1;33m\u001b[0m\u001b[1;33m\u001b[0m\u001b[0m\n",
      "\u001b[1;31mModuleNotFoundError\u001b[0m: No module named 'google.colab'"
     ]
    }
   ],
   "source": [
    "from google.colab import auth\n",
    "auth.authenticate_user()\n",
    "print('Authenticated')"
   ]
  },
  {
   "cell_type": "code",
   "execution_count": null,
   "metadata": {
    "id": "p73QoIhISdOM"
   },
   "outputs": [],
   "source": []
  },
  {
   "cell_type": "markdown",
   "metadata": {
    "id": "UMKGkkZEPVRu"
   },
   "source": [
    "## Optional: Enable data table display\n",
    "\n",
    "Colab includes the ``google.colab.data_table`` package that can be used to display large pandas dataframes as an interactive data table.\n",
    "It can be enabled with:"
   ]
  },
  {
   "cell_type": "code",
   "execution_count": 3,
   "metadata": {
    "id": "NO9yV6FSSyFf"
   },
   "outputs": [],
   "source": [
    "%load_ext google.colab.data_table"
   ]
  },
  {
   "cell_type": "markdown",
   "metadata": {
    "id": "y7QuudxdP0jH"
   },
   "source": [
    "If you would prefer to return to the classic Pandas dataframe display, you can disable this by running:\n",
    "```python\n",
    "%unload_ext google.colab.data_table\n",
    "```"
   ]
  },
  {
   "cell_type": "code",
   "execution_count": 12,
   "metadata": {
    "id": "3LZ-tiNITdUN"
   },
   "outputs": [],
   "source": [
    "# Save output in a variable `df`\n",
    "\n",
    "%%bigquery --project eim-prod df\n",
    "SELECT Customer_ID, Total_Dollar_Spent\n",
    "FROM `eim-dev.sandbox.CUSTOMER_CURRENT_STATIC`\n",
    "WHERE RAND() < 2000000/(SELECT COUNT(*) FROM `eim-dev.sandbox.CUSTOMER_CURRENT_STATIC`)"
   ]
  },
  {
   "cell_type": "code",
   "execution_count": 20,
   "metadata": {
    "id": "iJdUenwzUA8A"
   },
   "outputs": [],
   "source": []
  },
  {
   "cell_type": "code",
   "execution_count": 14,
   "metadata": {
    "colab": {
     "base_uri": "https://localhost:8080/",
     "height": 195
    },
    "id": "4W3cn5D2UFLN",
    "outputId": "09c3cafe-9fe5-44ec-ed99-82c00296de87"
   },
   "outputs": [
    {
     "data": {
      "application/vnd.google.colaboratory.module+javascript": "\n      import \"https://ssl.gstatic.com/colaboratory/data_table/a6224c040fa35dcf/data_table.js\";\n\n      window.createDataTable({\n        data: [[{\n            'v': 0,\n            'f': \"0\",\n        },\n{\n            'v': 1056735974,\n            'f': \"1056735974\",\n        },\n{\n            'v': \"7528.64\",\n            'f': \"\\\"7528.64\\\"\",\n        }],\n [{\n            'v': 1,\n            'f': \"1\",\n        },\n{\n            'v': 1135109636,\n            'f': \"1135109636\",\n        },\n{\n            'v': \"547.77\",\n            'f': \"\\\"547.77\\\"\",\n        }],\n [{\n            'v': 2,\n            'f': \"2\",\n        },\n{\n            'v': 1028719391,\n            'f': \"1028719391\",\n        },\n{\n            'v': \"7401.81\",\n            'f': \"\\\"7401.81\\\"\",\n        }],\n [{\n            'v': 3,\n            'f': \"3\",\n        },\n{\n            'v': 1301513396,\n            'f': \"1301513396\",\n        },\n{\n            'v': \"287.96\",\n            'f': \"\\\"287.96\\\"\",\n        }],\n [{\n            'v': 4,\n            'f': \"4\",\n        },\n{\n            'v': 1297415994,\n            'f': \"1297415994\",\n        },\n{\n            'v': \"150.88\",\n            'f': \"\\\"150.88\\\"\",\n        }]],\n        columns: [[\"number\", \"index\"], [\"number\", \"Customer_ID\"], [\"number\", \"Total_Dollar_Spent\"]],\n        columnOptions: [{\"width\": \"1px\", \"className\": \"index_column\"}],\n        rowsPerPage: 25,\n        helpUrl: \"https://colab.research.google.com/notebooks/data_table.ipynb\",\n        suppressOutputScrolling: true,\n        minimumWidth: undefined,\n      });\n    ",
      "text/html": [
       "<div>\n",
       "<style scoped>\n",
       "    .dataframe tbody tr th:only-of-type {\n",
       "        vertical-align: middle;\n",
       "    }\n",
       "\n",
       "    .dataframe tbody tr th {\n",
       "        vertical-align: top;\n",
       "    }\n",
       "\n",
       "    .dataframe thead th {\n",
       "        text-align: right;\n",
       "    }\n",
       "</style>\n",
       "<table border=\"1\" class=\"dataframe\">\n",
       "  <thead>\n",
       "    <tr style=\"text-align: right;\">\n",
       "      <th></th>\n",
       "      <th>Customer_ID</th>\n",
       "      <th>Total_Dollar_Spent</th>\n",
       "    </tr>\n",
       "  </thead>\n",
       "  <tbody>\n",
       "    <tr>\n",
       "      <th>0</th>\n",
       "      <td>1056735974</td>\n",
       "      <td>7528.64</td>\n",
       "    </tr>\n",
       "    <tr>\n",
       "      <th>1</th>\n",
       "      <td>1135109636</td>\n",
       "      <td>547.77</td>\n",
       "    </tr>\n",
       "    <tr>\n",
       "      <th>2</th>\n",
       "      <td>1028719391</td>\n",
       "      <td>7401.81</td>\n",
       "    </tr>\n",
       "    <tr>\n",
       "      <th>3</th>\n",
       "      <td>1301513396</td>\n",
       "      <td>287.96</td>\n",
       "    </tr>\n",
       "    <tr>\n",
       "      <th>4</th>\n",
       "      <td>1297415994</td>\n",
       "      <td>150.88</td>\n",
       "    </tr>\n",
       "  </tbody>\n",
       "</table>\n",
       "</div>"
      ],
      "text/plain": [
       "   Customer_ID Total_Dollar_Spent\n",
       "0   1056735974            7528.64\n",
       "1   1135109636             547.77\n",
       "2   1028719391            7401.81\n",
       "3   1301513396             287.96\n",
       "4   1297415994             150.88"
      ]
     },
     "execution_count": 14,
     "metadata": {
      "tags": []
     },
     "output_type": "execute_result"
    }
   ],
   "source": [
    "df.head()"
   ]
  },
  {
   "cell_type": "code",
   "execution_count": 18,
   "metadata": {
    "colab": {
     "base_uri": "https://localhost:8080/"
    },
    "id": "xS9k-NOTUtFI",
    "outputId": "bb2bc670-1df2-4f0f-846d-5601c146e51a"
   },
   "outputs": [
    {
     "name": "stdout",
     "output_type": "stream",
     "text": [
      "<class 'pandas.core.frame.DataFrame'>\n",
      "RangeIndex: 2001693 entries, 0 to 2001692\n",
      "Data columns (total 2 columns):\n",
      " #   Column              Dtype  \n",
      "---  ------              -----  \n",
      " 0   Customer_ID         int64  \n",
      " 1   Total_Dollar_Spent  float64\n",
      "dtypes: float64(1), int64(1)\n",
      "memory usage: 30.5 MB\n"
     ]
    }
   ],
   "source": [
    "df.info()"
   ]
  },
  {
   "cell_type": "code",
   "execution_count": 19,
   "metadata": {
    "id": "4fPwh2jj_4AM"
   },
   "outputs": [],
   "source": [
    "# # Convert Data Format\n",
    "df['Total_Dollar_Spent'] = df['Total_Dollar_Spent'].astype('float64')"
   ]
  },
  {
   "cell_type": "code",
   "execution_count": 23,
   "metadata": {
    "colab": {
     "base_uri": "https://localhost:8080/"
    },
    "id": "JP85Gp-mACK0",
    "outputId": "72c0dc4e-10f9-43e1-c96e-31fbab6866e3"
   },
   "outputs": [
    {
     "data": {
      "text/plain": [
       "count    594285.000000\n",
       "mean        702.376620\n",
       "std        1538.571913\n",
       "min      -67315.700000\n",
       "25%          43.970000\n",
       "50%         209.860000\n",
       "75%         718.690000\n",
       "max      309417.810000\n",
       "Name: Total_Dollar_Spent, dtype: float64"
      ]
     },
     "execution_count": 23,
     "metadata": {
      "tags": []
     },
     "output_type": "execute_result"
    }
   ],
   "source": [
    "df.Total_Dollar_Spent.describe()"
   ]
  },
  {
   "cell_type": "code",
   "execution_count": 26,
   "metadata": {
    "colab": {
     "base_uri": "https://localhost:8080/",
     "height": 183
    },
    "id": "P-ujNjqgBAxR",
    "outputId": "32e88393-a3b7-49bf-c832-6c54ef4f7a7a"
   },
   "outputs": [
    {
     "ename": "NameError",
     "evalue": "ignored",
     "output_type": "error",
     "traceback": [
      "\u001b[0;31m---------------------------------------------------------------------------\u001b[0m",
      "\u001b[0;31mNameError\u001b[0m                                 Traceback (most recent call last)",
      "\u001b[0;32m<ipython-input-26-71b14a79ded0>\u001b[0m in \u001b[0;36m<module>\u001b[0;34m()\u001b[0m\n\u001b[1;32m      1\u001b[0m \u001b[0;32mimport\u001b[0m \u001b[0mseaborn\u001b[0m \u001b[0;32mas\u001b[0m \u001b[0msns\u001b[0m\u001b[0;34m\u001b[0m\u001b[0;34m\u001b[0m\u001b[0m\n\u001b[0;32m----> 2\u001b[0;31m \u001b[0msns\u001b[0m\u001b[0;34m.\u001b[0m\u001b[0mdisplot\u001b[0m\u001b[0;34m(\u001b[0m\u001b[0mdf\u001b[0m\u001b[0;34m,\u001b[0m \u001b[0mx\u001b[0m\u001b[0;34m=\u001b[0m\u001b[0mTotal_Dollar_Spent\u001b[0m\u001b[0;34m)\u001b[0m\u001b[0;34m\u001b[0m\u001b[0;34m\u001b[0m\u001b[0m\n\u001b[0m",
      "\u001b[0;31mNameError\u001b[0m: name 'Total_Dollar_Spent' is not defined"
     ]
    }
   ],
   "source": [
    "import seaborn as sns\n",
    "sns.displot(df, x='Total_Dollar_Spent')"
   ]
  },
  {
   "cell_type": "code",
   "execution_count": null,
   "metadata": {
    "id": "LGOYY2i-CTMs"
   },
   "outputs": [],
   "source": []
  },
  {
   "cell_type": "code",
   "execution_count": 26,
   "metadata": {
    "id": "lgBrjUPWUHpw"
   },
   "outputs": [],
   "source": []
  },
  {
   "cell_type": "code",
   "execution_count": 21,
   "metadata": {
    "colab": {
     "base_uri": "https://localhost:8080/"
    },
    "id": "nRRBWbbIWa1e",
    "outputId": "e7ec449d-a2d3-4966-e2e3-fcc23c493929"
   },
   "outputs": [
    {
     "name": "stdout",
     "output_type": "stream",
     "text": [
      "<class 'pandas.core.frame.DataFrame'>\n",
      "RangeIndex: 1000 entries, 0 to 999\n",
      "Data columns (total 28 columns):\n",
      " #   Column                           Non-Null Count  Dtype  \n",
      "---  ------                           --------------  -----  \n",
      " 0   Fiscal_Year_Month                1000 non-null   int64  \n",
      " 1   Fiscal_Year_Number               1000 non-null   int64  \n",
      " 2   Business_Date                    1000 non-null   object \n",
      " 3   Transaction_Dttm                 1000 non-null   object \n",
      " 4   Channel                          1000 non-null   object \n",
      " 5   Fulfillment_Type                 1000 non-null   object \n",
      " 6   Store_Number                     1000 non-null   int64  \n",
      " 7   Customer_ID                      661 non-null    float64\n",
      " 8   Tier_at_the_time_of_transaction  206 non-null    object \n",
      " 9   Current_Tier                     661 non-null    object \n",
      " 10  Days_In_PowerUp                  211 non-null    float64\n",
      " 11  Days_In_Current_Tier             211 non-null    float64\n",
      " 12  SKU                              1000 non-null   object \n",
      " 13  Level_1                          1000 non-null   object \n",
      " 14  Level_2                          1000 non-null   object \n",
      " 15  Level_3                          1000 non-null   object \n",
      " 16  Level_4                          1000 non-null   object \n",
      " 17  Level_5                          1000 non-null   object \n",
      " 18  order_no                         1000 non-null   int64  \n",
      " 19  line_no                          1000 non-null   int64  \n",
      " 20  Promotion_Description            92 non-null     object \n",
      " 21  Campaign_Description             92 non-null     object \n",
      " 22  Five_Dollar_Discount_Flag        92 non-null     object \n",
      " 23  Sales_Amt                        1000 non-null   object \n",
      " 24  Sales_Qty                        1000 non-null   object \n",
      " 25  discount_amt                     92 non-null     object \n",
      " 26  Margin_Amt                       1000 non-null   object \n",
      " 27  Net_Sale_Price                   1000 non-null   object \n",
      "dtypes: float64(3), int64(5), object(20)\n",
      "memory usage: 218.9+ KB\n"
     ]
    }
   ],
   "source": [
    "df.info()"
   ]
  }
 ],
 "metadata": {
  "colab": {
   "collapsed_sections": [],
   "name": "GME EDA BigQuery.ipynb",
   "provenance": []
  },
  "kernelspec": {
   "display_name": "Python 3",
   "language": "python",
   "name": "python3"
  },
  "language_info": {
   "codemirror_mode": {
    "name": "ipython",
    "version": 3
   },
   "file_extension": ".py",
   "mimetype": "text/x-python",
   "name": "python",
   "nbconvert_exporter": "python",
   "pygments_lexer": "ipython3",
   "version": "3.7.3"
  }
 },
 "nbformat": 4,
 "nbformat_minor": 1
}
